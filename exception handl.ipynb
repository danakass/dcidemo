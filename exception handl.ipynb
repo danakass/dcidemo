{
 "cells": [
  {
   "cell_type": "code",
   "execution_count": 6,
   "metadata": {},
   "outputs": [
    {
     "name": "stdout",
     "output_type": "stream",
     "text": [
      "ksefjk\n"
     ]
    }
   ],
   "source": [
    "#exception handling\n",
    "try:\n",
    "    with open('namen.txt', 'r') as a:\n",
    "        print(a.read())\n",
    "except:\n",
    "    print('the file doesnt exsist')"
   ]
  },
  {
   "cell_type": "code",
   "execution_count": 5,
   "metadata": {},
   "outputs": [
    {
     "name": "stdout",
     "output_type": "stream",
     "text": [
      "The file does not exsist\n"
     ]
    }
   ],
   "source": [
    "try:\n",
    "    with open('nofile.txt', 'r') as a:\n",
    "        print(a.read())\n",
    "except:\n",
    "    print('The file does not exsist')"
   ]
  }
 ],
 "metadata": {
  "kernelspec": {
   "display_name": "Python 3",
   "language": "python",
   "name": "python3"
  },
  "language_info": {
   "codemirror_mode": {
    "name": "ipython",
    "version": 3
   },
   "file_extension": ".py",
   "mimetype": "text/x-python",
   "name": "python",
   "nbconvert_exporter": "python",
   "pygments_lexer": "ipython3",
   "version": "3.13.0"
  }
 },
 "nbformat": 4,
 "nbformat_minor": 2
}
