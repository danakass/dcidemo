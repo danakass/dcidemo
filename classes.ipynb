{
 "cells": [
  {
   "cell_type": "code",
   "execution_count": 4,
   "metadata": {},
   "outputs": [
    {
     "name": "stdout",
     "output_type": "stream",
     "text": [
      "Bbq\n",
      "sng\n",
      "This is a restaurant Bbq with Sng cuisine\n",
      "Bbq is open everyone welcome\n"
     ]
    }
   ],
   "source": [
    "#restaurant class task\n",
    "\n",
    "class Restaurant:\n",
    "    def __init__(self, restaurant_name, cuisine_type):\n",
    "        self.name = restaurant_name\n",
    "        self.cuisine = cuisine_type\n",
    "\n",
    "    def describe_rest(self):\n",
    "        print(f\"This is a restaurant {self.name.title()} with {self.cuisine.title()} cuisine\")\n",
    "\n",
    "    def rest_open(self):\n",
    "        print(f\"{self.name.title()} is open everyone welcome\")\n",
    "\n",
    "\n",
    "firstrest = Restaurant(\"Bbq\", \"sng\")\n",
    "print(firstrest.name)\n",
    "print(firstrest.cuisine)\n",
    "firstrest.describe_rest()\n",
    "firstrest.rest_open()"
   ]
  },
  {
   "cell_type": "code",
   "execution_count": null,
   "metadata": {},
   "outputs": [
    {
     "name": "stdout",
     "output_type": "stream",
     "text": [
      "This is a restaurant Bbq with Sng cuisine\n",
      "This is a restaurant Kaheti with Georgian cuisine\n",
      "This is a restaurant Imbeer with Various cuisine\n"
     ]
    }
   ],
   "source": [
    "#2nd task\n",
    "class Restaurant:\n",
    "    def __init__(self, restaurant_name, cuisine_type):\n",
    "        self.name = restaurant_name\n",
    "        self.cuisine = cuisine_type\n",
    "\n",
    "    def describe_rest(self):\n",
    "        print(f\"This is a restaurant {self.name.title()} with {self.cuisine.title()} cuisine\")\n",
    "\n",
    "    def rest_open(self):\n",
    "        print(f\"{self.name.title()} is open everyone welcome\")\n",
    "\n",
    "firstrest = Restaurant(\"Bbq\", \"sng\")\n",
    "secrest = Restaurant('Kaheti', 'georgian')\n",
    "thirdrest = Restaurant('Imbeer', 'various')\n",
    "\n",
    "firstrest.describe_rest()\n",
    "secrest.describe_rest()\n",
    "thirdrest.describe_rest()\n"
   ]
  },
  {
   "cell_type": "code",
   "execution_count": null,
   "metadata": {},
   "outputs": [
    {
     "name": "stdout",
     "output_type": "stream",
     "text": [
      "First  Dana Kass\n",
      "Username danakass\n",
      "Email dana@mail.ru\n",
      "Location Tettnang\n",
      "Hello and welcome Dana Kass\n",
      "First  Dina Saparova\n",
      "Username sinasap\n",
      "Email dina@mail.ru\n",
      "Location Astana\n",
      "Hello and welcome Dina Saparova\n"
     ]
    }
   ],
   "source": [
    "#3d task\n",
    "class User:\n",
    "    def __init__(self, first_name, last_name, username, email, location): #constructor and initilizer\n",
    "        self.first_name = first_name\n",
    "        self.last_name = last_name\n",
    "        self.username = username\n",
    "        self.email = email\n",
    "        self.location = location\n",
    "\n",
    "    def describe_user(self): #summary of user info\n",
    "        print(f\"First  {self.first_name.title()} {self.last_name.title()}\")\n",
    "        print(f\"Username {self.username}\")\n",
    "        print(f\"Email {self.email}\")\n",
    "        print(f\"Location {self.location.title()}\")\n",
    "\n",
    "\n",
    "    def greet(self):\n",
    "        print(f\"Hello and welcome {self.first_name.title()} {self.last_name.title()}\")\n",
    "\n",
    "user1 = User('dana', 'kass', 'danakass', 'dana@mail.ru', 'tettnang')\n",
    "user2 = User('dina', 'saparova', 'sinasap', 'dina@mail.ru', 'astana')\n",
    "user3 = User('volodymyr', 'zelensk', 'vzel', 'volod@mail.ua', 'kyiv')\n",
    "\n",
    "user1.describe_user()\n",
    "user1.greet()\n",
    "\n",
    "user2.describe_user()\n",
    "user2.greet()\n"
   ]
  },
  {
   "cell_type": "code",
   "execution_count": 12,
   "metadata": {},
   "outputs": [
    {
     "name": "stdout",
     "output_type": "stream",
     "text": [
      "Welcome to Bbq with sng cuisine\n",
      "We served 0 customers\n",
      "This is a restaurant Bbq with Sng cuisine\n",
      "Bbq is open everyone welcome\n",
      "Following are the number of customers served by the restaurant Bbq: 1000.\n"
     ]
    }
   ],
   "source": [
    "#4th task numbers 4: Number Served\n",
    "#Start with your program from Exercise 1. Add an attribute called number_served with a default value of 0. \n",
    "# Create an instance called restaurant from this class. Print the number of customers the restaurant has served and then change this value and print it again.\n",
    "#Add a method called set_number_served() that lets you set the number of customers that have been served. Call this method with a new number and print the value again.\n",
    "#Add a method called increment_number_served() that lets you increment the number of customers who've been served. \n",
    "# Call this method with any number you like that could represent how many customers were served in, say, a day of business.\n",
    "\n",
    "class Restaurant:\n",
    "    def __init__(self, restaurant_name, cuisine_type):\n",
    "        self.name = restaurant_name\n",
    "        self.cuisine = cuisine_type\n",
    "        self.number_served = 0\n",
    "\n",
    "    def describe_rest(self):\n",
    "        print(f\"This is a restaurant {self.name.title()} with {self.cuisine.title()} cuisine\")\n",
    "\n",
    "    def rest_open(self):\n",
    "        print(f\"{self.name.title()} is open everyone welcome\")\n",
    "\n",
    "    def set_number_served(self, number_served):\n",
    "        self.number_served = number_served\n",
    "        print(f\"Following are the number of customers served by the restaurant {self.name.title()}: {self.number_served}.\")\n",
    "\n",
    "rest = Restaurant('bbq', 'sng')\n",
    "\n",
    "print(f\"Welcome to {rest.name.title()} with {rest.cuisine} cuisine\")\n",
    "print(f\"We served {rest.number_served} customers\")\n",
    "rest. describe_rest()\n",
    "rest.rest_open()\n",
    "rest.set_number_served(1000)\n",
    "\n"
   ]
  },
  {
   "cell_type": "code",
   "execution_count": null,
   "metadata": {},
   "outputs": [
    {
     "ename": "TypeError",
     "evalue": "User.__init__() missing 1 required positional argument: 'login_attempts'",
     "output_type": "error",
     "traceback": [
      "\u001b[1;31m---------------------------------------------------------------------------\u001b[0m",
      "\u001b[1;31mTypeError\u001b[0m                                 Traceback (most recent call last)",
      "Cell \u001b[1;32mIn[7], line 36\u001b[0m\n\u001b[0;32m     31\u001b[0m     \u001b[38;5;28;01mdef\u001b[39;00m \u001b[38;5;21mresert_login_attempts\u001b[39m(\u001b[38;5;28mself\u001b[39m):\n\u001b[0;32m     32\u001b[0m         \u001b[38;5;28mself\u001b[39m\u001b[38;5;241m.\u001b[39mlog_attempts \u001b[38;5;241m=\u001b[39m \u001b[38;5;241m0\u001b[39m\n\u001b[1;32m---> 36\u001b[0m user1 \u001b[38;5;241m=\u001b[39m \u001b[43mUser\u001b[49m\u001b[43m(\u001b[49m\u001b[38;5;124;43m'\u001b[39;49m\u001b[38;5;124;43mdana\u001b[39;49m\u001b[38;5;124;43m'\u001b[39;49m\u001b[43m,\u001b[49m\u001b[43m \u001b[49m\u001b[38;5;124;43m'\u001b[39;49m\u001b[38;5;124;43mkass\u001b[39;49m\u001b[38;5;124;43m'\u001b[39;49m\u001b[43m,\u001b[49m\u001b[43m \u001b[49m\u001b[38;5;124;43m'\u001b[39;49m\u001b[38;5;124;43mdanakass\u001b[39;49m\u001b[38;5;124;43m'\u001b[39;49m\u001b[43m,\u001b[49m\u001b[43m \u001b[49m\u001b[38;5;124;43m'\u001b[39;49m\u001b[38;5;124;43mdana@mail.ru\u001b[39;49m\u001b[38;5;124;43m'\u001b[39;49m\u001b[43m,\u001b[49m\u001b[43m \u001b[49m\u001b[38;5;124;43m'\u001b[39;49m\u001b[38;5;124;43mtettnang\u001b[39;49m\u001b[38;5;124;43m'\u001b[39;49m\u001b[43m)\u001b[49m\n\u001b[0;32m     37\u001b[0m user2 \u001b[38;5;241m=\u001b[39m User(\u001b[38;5;124m'\u001b[39m\u001b[38;5;124mdina\u001b[39m\u001b[38;5;124m'\u001b[39m, \u001b[38;5;124m'\u001b[39m\u001b[38;5;124msaparova\u001b[39m\u001b[38;5;124m'\u001b[39m, \u001b[38;5;124m'\u001b[39m\u001b[38;5;124msinasap\u001b[39m\u001b[38;5;124m'\u001b[39m, \u001b[38;5;124m'\u001b[39m\u001b[38;5;124mdina@mail.ru\u001b[39m\u001b[38;5;124m'\u001b[39m, \u001b[38;5;124m'\u001b[39m\u001b[38;5;124mastana\u001b[39m\u001b[38;5;124m'\u001b[39m)\n\u001b[0;32m     38\u001b[0m user3 \u001b[38;5;241m=\u001b[39m User(\u001b[38;5;124m'\u001b[39m\u001b[38;5;124mvolodymyr\u001b[39m\u001b[38;5;124m'\u001b[39m, \u001b[38;5;124m'\u001b[39m\u001b[38;5;124mzelensk\u001b[39m\u001b[38;5;124m'\u001b[39m, \u001b[38;5;124m'\u001b[39m\u001b[38;5;124mvzel\u001b[39m\u001b[38;5;124m'\u001b[39m, \u001b[38;5;124m'\u001b[39m\u001b[38;5;124mvolod@mail.ua\u001b[39m\u001b[38;5;124m'\u001b[39m, \u001b[38;5;124m'\u001b[39m\u001b[38;5;124mkyiv\u001b[39m\u001b[38;5;124m'\u001b[39m)\n",
      "\u001b[1;31mTypeError\u001b[0m: User.__init__() missing 1 required positional argument: 'login_attempts'"
     ]
    }
   ],
   "source": [
    "#5th task\n",
    "#5: Login Attempts\n",
    "#Add an attribute called login_attempts to your User class from Exercise 3. Write a method called increment_login_attempts() that increments \n",
    "# the value of login_attempts by 1. Write another method called reset_login_attempts() that resets the value of login_attempts to 0.\n",
    "#Make an instance of the User class and call increment_login_attempts() several times. Print the value of login_attempts to make sure it \n",
    "# was incremented properly and then call reset_login_attempts(). Print login_attempts again to make sure it was reset to 0.\n",
    "\n",
    "class User:\n",
    "    def __init__(self, first_name, last_name, username, email, location, login_attempts): #constructor and initilizer\n",
    "        self.first_name = first_name\n",
    "        self.last_name = last_name\n",
    "        self.username = username\n",
    "        self.email = email\n",
    "        self.location = location\n",
    "        self.log_attempts = login_attempts\n",
    "        self.log_attempts = 0\n",
    "\n",
    "    def describe_user(self): #summary of user info\n",
    "        print(f\"First  {self.first_name.title()} {self.last_name.title()}\")\n",
    "        print(f\"Username {self.username}\")\n",
    "        print(f\"Email {self.email}\")\n",
    "        print(f\"Location {self.location.title()}\")\n",
    "\n",
    "\n",
    "    def greet(self):\n",
    "        print(f\"Hello and welcome {self.first_name.title()} {self.last_name.title()}\")\n",
    "\n",
    "    def increment_login_attempts(self):\n",
    "        self.log_attempts += 1\n",
    "\n",
    "    def resert_login_attempts(self):\n",
    "        self.log_attempts = 0\n",
    "\n",
    "\n",
    "\n",
    "user1 = User('dana', 'kass', 'danakass', 'dana@mail.ru', 'tettnang')\n",
    "user2 = User('dina', 'saparova', 'sinasap', 'dina@mail.ru', 'astana')\n",
    "user3 = User('volodymyr', 'zelensk', 'vzel', 'volod@mail.ua', 'kyiv')\n",
    "\n",
    "user1.describe_user()\n",
    "user1.greet()\n",
    "\n",
    "user2.describe_user()\n",
    "user2.greet()\n"
   ]
  },
  {
   "cell_type": "code",
   "execution_count": null,
   "metadata": {},
   "outputs": [
    {
     "name": "stdout",
     "output_type": "stream",
     "text": [
      "This is a restaurant Kiosk with Ice Cream cuisine\n",
      "Following are the number of customers served by the restaurant Kiosk: 100.\n",
      "All the flavors:\n",
      " - chocolate\n",
      " - vanilla\n",
      " - kiwi\n",
      " - banane\n",
      " - orange\n",
      " - bb\n"
     ]
    }
   ],
   "source": [
    "#6: Ice Cream Stand\n",
    "#An ice cream stand is a specific kind of restaurant. Write a class called IceCreamStand that inherits from the Restaurant \n",
    "# class you wrote in Exercise 1 or Exercise 4.  Either version of the class will work; just pick the one you like better. \n",
    "# Add an attribute called flavors that stores a list of ice cream flavors. Write a method that displays these flavors. \n",
    "# Create an instance of IceCreamStand and call this method\n",
    "\n",
    "class Restaurant:\n",
    "    def __init__(self, restaurant_name, cuisine_type):\n",
    "        self.name = restaurant_name\n",
    "        self.cuisine = cuisine_type\n",
    "        self.number_served = 0\n",
    "\n",
    "    def describe_rest(self):\n",
    "        print(f\"This is a restaurant {self.name.title()} with {self.cuisine.title()} cuisine\")\n",
    "\n",
    "    def rest_open(self):\n",
    "        print(f\"{self.name.title()} is open, everyone welcome\")\n",
    "\n",
    "    def set_number_served(self, number_served):\n",
    "        self.number_served = number_served\n",
    "        print(f\"Following are the number of customers served by the restaurant {self.name.title()}: {self.number_served}.\")\n",
    "\n",
    "class iceCream(Restaurant):\n",
    "    def __init__(self, name, cuisine_type='ice cream', flavors = []):\n",
    "        # Inheritance of the parent's class attributes and methods\n",
    "        # Using super() funnction\n",
    "        super().__init__(name, cuisine_type)\n",
    "        self.flavors = flavors\n",
    " \n",
    " # method of child class to show flavors\n",
    "    def show_flavors(self): \n",
    "        print(\"All the flavors:\")\n",
    "        for fl in self.flavors:\n",
    "            print(f\" - {fl}\")\n",
    "\n",
    "ice1 = iceCream('Kiosk', flavors=['chocolate', 'vanilla', 'kiwi', 'banane', 'orange', 'bb'])\n",
    "ice1.describe_rest()\n",
    "ice1.set_number_served(100)\n",
    "ice1.show_flavors()"
   ]
  },
  {
   "cell_type": "code",
   "execution_count": 19,
   "metadata": {},
   "outputs": [
    {
     "name": "stdout",
     "output_type": "stream",
     "text": [
      "here are set of privilegs of dana kass\n",
      " - write\n",
      " - read\n",
      " - execute\n",
      "\n",
      "Name: Dana Kass\n",
      "Username: danakass\n",
      "E-mail: dana@mail.ru\n",
      "Location: De\n"
     ]
    }
   ],
   "source": [
    "#admin 7\n",
    "\n",
    "class User:\n",
    "    # Method 1 - Constructor/Initializer\n",
    "    def __init__(self, first_name, last_name, username, email, location):\n",
    "        self.first_name = first_name\n",
    "        self.last_name = last_name\n",
    "        self.username = username\n",
    "        self.email = email\n",
    "        self.location = location\n",
    "\n",
    "    # Method 2 - Prints a summary of the user's information. \n",
    "    def describe_user(self):\n",
    "        print(f\"\\nName: {self.first_name.title()} {self.last_name.title()}\")\n",
    "        print(f\"Username: {self.username}\")\n",
    "        print(f\"E-mail: {self.email}\")\n",
    "        print(f\"Location: {self.location.title()}\")\n",
    "\n",
    "    # Method 3 - Prints a personalized greeting to the user\n",
    "    def greet_user(self):\n",
    "        print(f\"\\nHi {self.first_name.title()} {self.last_name.title()}, how're you doing today.\")\n",
    "\n",
    "class Admin(User):\n",
    "    def __init__(self, first_name, last_name, username, email, location, privileges = []):\n",
    "        super().__init__(first_name, last_name, username, email, location)\n",
    "        self.privileges = privileges\n",
    "\n",
    "    #list of admins privilegs\n",
    "    def show_privileg(self):\n",
    "        print(f\"here are set of privilegs of {self.first_name} {self.last_name}\")\n",
    "        for privileg in self.privileges:\n",
    "            print(f\" - {privileg}\")\n",
    "\n",
    "admin1 = Admin('dana', 'kass', 'danakass', 'dana@mail.ru', 'DE', ['write', 'read', 'execute'])\n",
    "admin1.show_privileg()\n",
    "admin1.describe_user()"
   ]
  },
  {
   "cell_type": "code",
   "execution_count": null,
   "metadata": {},
   "outputs": [],
   "source": [
    "#new class privilege\n",
    "\n",
    "class User:\n",
    "    # Method 1 - Constructor/Initializer\n",
    "    def __init__(self, first_name, last_name, username, email, location):\n",
    "        self.first_name = first_name\n",
    "        self.last_name = last_name\n",
    "        self.username = username\n",
    "        self.email = email\n",
    "        self.location = location\n",
    "\n",
    "    # Method 2 - Prints a summary of the user's information. \n",
    "    def describe_user(self):\n",
    "        print(f\"\\nName: {self.first_name.title()} {self.last_name.title()}\")\n",
    "        print(f\"Username: {self.username}\")\n",
    "        print(f\"E-mail: {self.email}\")\n",
    "        print(f\"Location: {self.location.title()}\")\n",
    "\n",
    "    # Method 3 - Prints a personalized greeting to the user\n",
    "    def greet_user(self):\n",
    "        print(f\"\\nHi {self.first_name.title()} {self.last_name.title()}, how're you doing today.\")\n",
    "\n",
    "class Admin(User):\n",
    "    def __init__(self, first_name, last_name, username, email, location, privileges = []):\n",
    "        super().__init__(first_name, last_name, username, email, location)\n",
    "        self.privileges = privileges\n",
    "\n",
    "    #list of admins privilegs\n",
    "    def show_privileg(self):\n",
    "        print(f\"here are set of privilegs of {self.first_name} {self.last_name}\")\n",
    "        for privileg in self.privileges:\n",
    "            print(f\" - {privileg}\")\n",
    "\n",
    "admin1 = Admin('dana', 'kass', 'danakass', 'dana@mail.ru', 'DE', ['write', 'read', 'execute'])\n",
    "admin1.show_privileg()\n",
    "admin1.describe_user()"
   ]
  }
 ],
 "metadata": {
  "kernelspec": {
   "display_name": "Python 3",
   "language": "python",
   "name": "python3"
  },
  "language_info": {
   "codemirror_mode": {
    "name": "ipython",
    "version": 3
   },
   "file_extension": ".py",
   "mimetype": "text/x-python",
   "name": "python",
   "nbconvert_exporter": "python",
   "pygments_lexer": "ipython3",
   "version": "3.13.0"
  }
 },
 "nbformat": 4,
 "nbformat_minor": 2
}
